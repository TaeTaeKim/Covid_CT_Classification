{
 "cells": [
  {
   "cell_type": "code",
   "execution_count": 1,
   "id": "85e44410-9b5e-4911-ba90-815e301d4927",
   "metadata": {},
   "outputs": [],
   "source": [
    "import pandas as pd\n",
    "import numpy as np\n",
    "import math\n",
    "\n",
    "import torch\n",
    "import torchvision as tv\n",
    "import torchvision.transforms as transforms\n",
    "\n",
    "from tqdm import tqdm\n",
    "from PIL import Image\n",
    "\n",
    "import cv2\n",
    "import os\n",
    "import random"
   ]
  },
  {
   "cell_type": "code",
   "execution_count": 49,
   "id": "6ad8f312-ea58-4112-98cf-646c20e96425",
   "metadata": {},
   "outputs": [],
   "source": [
    "if not os.path.isdir('newimg'):\n",
    "    os.makedirs('newimg')\n",
    "WORKING_DIR = '/USER/Taeyun/'"
   ]
  },
  {
   "cell_type": "code",
   "execution_count": 50,
   "id": "6a29d04f-49d8-4990-87f8-7461db0478c6",
   "metadata": {},
   "outputs": [],
   "source": [
    "df = pd.read_csv('train.csv')\n",
    "\n",
    "#validation은 적용하고 싶지 않을 떄\n",
    "#train = df.loc[:300,:]"
   ]
  },
  {
   "cell_type": "code",
   "execution_count": 51,
   "id": "38a24419-a2e2-4c66-86cc-d0b125349a46",
   "metadata": {},
   "outputs": [],
   "source": [
    "covid1 = df[df['COVID']==1]\n",
    "covid0 = df[df['COVID']==0]"
   ]
  },
  {
   "cell_type": "code",
   "execution_count": 52,
   "id": "46eeaf9b-1ae1-4160-932c-2eb67a5c8d04",
   "metadata": {},
   "outputs": [],
   "source": [
    "def make_vertical_new(img1,img2):\n",
    "    upper = img1[:,:np.size(img1,1)//2,:]\n",
    "    lower = img2[:,np.size(img2,1)//2:,:]\n",
    "    return np.concatenate([upper,lower],axis=1)"
   ]
  },
  {
   "cell_type": "code",
   "execution_count": 53,
   "id": "0ccfb2c9-44ad-4d40-9670-49425a5f78d7",
   "metadata": {},
   "outputs": [],
   "source": [
    "def make_horizon_new(img1,img2):\n",
    "    lefthalf = img1[:np.size(img1,0)//2,:,:]\n",
    "    righthalf = img2[np.size(img2,0)//2:,:,:]\n",
    "    return np.concatenate([lefthalf,righthalf],axis=0)"
   ]
  },
  {
   "cell_type": "code",
   "execution_count": 54,
   "id": "dfbf8709-c465-44df-9de6-3e61cb6c0a32",
   "metadata": {},
   "outputs": [],
   "source": [
    "def make_square_new(img1,img2,img3,img4):\n",
    "    leftupper = img1[:np.size(img1,0)//2,:np.size(img1,1)//2,:]\n",
    "    rightupper = img2[:np.size(img2,0)//2,np.size(img2,1)//2:,:]\n",
    "    leftlower = img3[np.size(img3,0)//2:,:np.size(img3,1)//2,:]\n",
    "    rightlower = img4[np.size(img4,0)//2:,np.size(img4,1)//2:,:]\n",
    "    upper = np.concatenate([leftupper,rightupper],axis=1)\n",
    "    lower = np.concatenate([leftlower,rightlower],axis=1)\n",
    "    \n",
    "    return np.concatenate([upper,lower],axis=0)"
   ]
  },
  {
   "cell_type": "code",
   "execution_count": 57,
   "id": "373dc81d-f6e4-4371-b218-c90465a295a5",
   "metadata": {},
   "outputs": [],
   "source": [
    "new_df = {\"file_name\":[],\"COVID\":[]}"
   ]
  },
  {
   "cell_type": "code",
   "execution_count": 58,
   "id": "c82ad33d-f3cf-4015-b496-7a4990dd2624",
   "metadata": {
    "tags": []
   },
   "outputs": [
    {
     "name": "stderr",
     "output_type": "stream",
     "text": [
      "100% 2000/2000 [07:20<00:00,  4.54it/s]\n"
     ]
    }
   ],
   "source": [
    "for i in tqdm(range(646,12646,6)):\n",
    "    #랜덤으로 이미지 뽑음\n",
    "    Covid1_1,Covid1_2= random.choices(covid1['file_name'].to_list(),k=2)\n",
    "    Covid0_1,Covid0_2= random.choices(covid0['file_name'].to_list(),k=2)\n",
    "    \n",
    "    # 랜덤으로 뽑은 이미지 가져옴(np.array형태)\n",
    "    Covid1_img1 = cv2.imread(os.path.join(WORKING_DIR,'train',Covid1_1),cv2.IMREAD_COLOR | cv2.IMREAD_IGNORE_ORIENTATION)\n",
    "    Covid1_img2 = cv2.imread(os.path.join(WORKING_DIR,'train',Covid1_2),cv2.IMREAD_COLOR | cv2.IMREAD_IGNORE_ORIENTATION)\n",
    "\n",
    "    Covid0_img1 = cv2.imread(os.path.join(WORKING_DIR,'train',Covid0_1),cv2.IMREAD_COLOR | cv2.IMREAD_IGNORE_ORIENTATION)\n",
    "    Covid0_img2 = cv2.imread(os.path.join(WORKING_DIR,'train',Covid0_2),cv2.IMREAD_COLOR | cv2.IMREAD_IGNORE_ORIENTATION)\n",
    "    \n",
    "    #반복하면서 수직,수평으로 분할해서 라벨이 0,1인 이미지 2개생성\n",
    "    # img를 폴더에 저장\n",
    "    new_1_ver = make_vertical_new(Covid1_img1,Covid1_img2)\n",
    "    new_0_ver = make_vertical_new(Covid0_img1,Covid0_img2)\n",
    "    new_1_hor = make_horizon_new(Covid1_img1,Covid1_img2)\n",
    "    new_0_hor = make_horizon_new(Covid0_img1,Covid0_img2)\n",
    "    (Image.fromarray(new_1_ver)).save(f'{WORKING_DIR}newimg/{i}.png','png')\n",
    "    (Image.fromarray(new_0_ver)).save(f'{WORKING_DIR}newimg/{i+1}.png','png')\n",
    "    (Image.fromarray(new_1_hor)).save(f'{WORKING_DIR}newimg/{i+2}.png','png')\n",
    "    (Image.fromarray(new_0_hor)).save(f'{WORKING_DIR}newimg/{i+3}.png','png')\n",
    "    \n",
    "    Covid1_1,Covid1_2,Covid1_3,Covid1_4= random.choices(covid1['file_name'].to_list(),k=4)\n",
    "    Covid0_1,Covid0_2,Covid0_3,Covid0_4 = random.choices(covid0['file_name'].to_list(),k=4)\n",
    "    \n",
    "    Covid1_img1 = cv2.imread(os.path.join(WORKING_DIR,'train',Covid1_1),cv2.IMREAD_COLOR | cv2.IMREAD_IGNORE_ORIENTATION)\n",
    "    Covid1_img2 = cv2.imread(os.path.join(WORKING_DIR,'train',Covid1_2),cv2.IMREAD_COLOR | cv2.IMREAD_IGNORE_ORIENTATION)\n",
    "    Covid1_img3 = cv2.imread(os.path.join(WORKING_DIR,'train',Covid1_3),cv2.IMREAD_COLOR | cv2.IMREAD_IGNORE_ORIENTATION)\n",
    "    Covid1_img4 = cv2.imread(os.path.join(WORKING_DIR,'train',Covid1_4),cv2.IMREAD_COLOR | cv2.IMREAD_IGNORE_ORIENTATION)\n",
    "    \n",
    "    \n",
    "    Covid0_img1 = cv2.imread(os.path.join(WORKING_DIR,'train',Covid0_1),cv2.IMREAD_COLOR | cv2.IMREAD_IGNORE_ORIENTATION)\n",
    "    Covid0_img2 = cv2.imread(os.path.join(WORKING_DIR,'train',Covid0_2),cv2.IMREAD_COLOR | cv2.IMREAD_IGNORE_ORIENTATION)\n",
    "    Covid0_img3 = cv2.imread(os.path.join(WORKING_DIR,'train',Covid0_3),cv2.IMREAD_COLOR | cv2.IMREAD_IGNORE_ORIENTATION)\n",
    "    Covid0_img4 = cv2.imread(os.path.join(WORKING_DIR,'train',Covid0_4),cv2.IMREAD_COLOR | cv2.IMREAD_IGNORE_ORIENTATION)\n",
    "    \n",
    "    \n",
    "    new_1_square = make_square_new(Covid1_img1,Covid1_img2,Covid1_img3,Covid1_img4)\n",
    "    new_0_square = make_square_new(Covid0_img1,Covid0_img2,Covid0_img3,Covid0_img4)\n",
    "    (Image.fromarray(new_1_square)).save(f\"{WORKING_DIR}newimg/{i+4}.png\",'png')\n",
    "    (Image.fromarray(new_0_square)).save(f\"{WORKING_DIR}newimg/{i+5}.png\",'png')\n",
    "\n",
    "    # 새로만들어진 img 라벨이 있는 csv작성\n",
    "    new_df['file_name'].extend([f'{i}.png',f'{i+1}.png',f'{i+2}.png',f'{i+3}.png',f'{i+4}.png',f'{i+5}.png'])\n",
    "    new_df['COVID'].extend([1,0,1,0,1,0])\n",
    "        "
   ]
  },
  {
   "cell_type": "code",
   "execution_count": 59,
   "id": "757d5926-8272-4a28-990c-7c61006b1051",
   "metadata": {},
   "outputs": [],
   "source": [
    "new_df = pd.DataFrame(new_df)"
   ]
  },
  {
   "cell_type": "code",
   "execution_count": 60,
   "id": "a5c76255-1993-40df-8534-3c4a5ee806cc",
   "metadata": {},
   "outputs": [],
   "source": [
    "new_df.to_csv(f'{WORKING_DIR}/new.csv',index=False)"
   ]
  },
  {
   "cell_type": "code",
   "execution_count": null,
   "id": "39644068-6176-41e4-ad9b-944b083227be",
   "metadata": {},
   "outputs": [],
   "source": []
  }
 ],
 "metadata": {
  "kernelspec": {
   "display_name": "Python 3 (ipykernel)",
   "language": "python",
   "name": "python3"
  },
  "language_info": {
   "codemirror_mode": {
    "name": "ipython",
    "version": 3
   },
   "file_extension": ".py",
   "mimetype": "text/x-python",
   "name": "python",
   "nbconvert_exporter": "python",
   "pygments_lexer": "ipython3",
   "version": "3.8.5"
  }
 },
 "nbformat": 4,
 "nbformat_minor": 5
}
